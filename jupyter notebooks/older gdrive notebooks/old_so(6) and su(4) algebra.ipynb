{
 "cells": [
  {
   "cell_type": "code",
   "execution_count": 7,
   "id": "2433cb95-256b-40b1-80c4-9a5257f821b2",
   "metadata": {},
   "outputs": [],
   "source": [
    "import numpy as np\n",
    "import scipy\n",
    "\n",
    "from toqito.states import basis\n",
    "from toqito.matrix_props import is_linearly_independent"
   ]
  },
  {
   "cell_type": "code",
   "execution_count": 8,
   "id": "e7c0bf63-da81-4b15-bbef-1ec20a76fb00",
   "metadata": {},
   "outputs": [],
   "source": [
    "# definig the basis for matrix representation of so(6) algebra\n",
    "\n",
    "n = 6\n",
    "# get the column vectors\n",
    "dim_6_ket = [basis(n, 0), basis(n, 1), basis(n, 2), basis(n, 3), basis(n, 4), basis(n, 5)]\n",
    "# get the bra\n",
    "dim_6_bra = []\n",
    "for i in range(n):\n",
    "    item = dim_6_ket[i]\n",
    "    dim_6_bra.append(item.conj().T)\n",
    "\n",
    "so6_basis = []\n",
    "for i in range(n):\n",
    "    for k in range(1, n):\n",
    "        if i < k:\n",
    "            m_ik = -1j*(np.outer(dim_6_ket[i], dim_6_ket[k])-np.outer(dim_6_ket[k], dim_6_ket[i]))\n",
    "            so6_basis.append(m_ik)"
   ]
  },
  {
   "cell_type": "code",
   "execution_count": 9,
   "id": "a6c38e6d-56c6-4052-92b1-17a608ac90e9",
   "metadata": {},
   "outputs": [
    {
     "data": {
      "text/plain": [
       "False"
      ]
     },
     "execution_count": 9,
     "metadata": {},
     "output_type": "execute_result"
    }
   ],
   "source": [
    "is_linearly_independent(so6_basis)"
   ]
  },
  {
   "cell_type": "code",
   "execution_count": 10,
   "id": "862a49f9-4a0a-4edf-86e5-4ead1d19b098",
   "metadata": {},
   "outputs": [
    {
     "data": {
      "text/plain": [
       "15"
      ]
     },
     "execution_count": 10,
     "metadata": {},
     "output_type": "execute_result"
    }
   ],
   "source": [
    "len(so6_basis)"
   ]
  },
  {
   "cell_type": "code",
   "execution_count": 11,
   "id": "71c5525a-5049-4209-999a-3e3df695adc0",
   "metadata": {},
   "outputs": [
    {
     "name": "stdout",
     "output_type": "stream",
     "text": [
      "so(6) basis element 0 \n",
      "\n",
      "0 1 \n",
      "\n",
      "1 0 \n",
      "\n",
      "so(6) basis element 1 \n",
      "\n",
      "0 2 \n",
      "\n",
      "2 0 \n",
      "\n",
      "so(6) basis element 2 \n",
      "\n",
      "0 3 \n",
      "\n",
      "3 0 \n",
      "\n",
      "so(6) basis element 3 \n",
      "\n",
      "0 4 \n",
      "\n",
      "4 0 \n",
      "\n",
      "so(6) basis element 4 \n",
      "\n",
      "0 5 \n",
      "\n",
      "5 0 \n",
      "\n",
      "so(6) basis element 5 \n",
      "\n",
      "1 2 \n",
      "\n",
      "2 1 \n",
      "\n",
      "so(6) basis element 6 \n",
      "\n",
      "1 3 \n",
      "\n",
      "3 1 \n",
      "\n",
      "so(6) basis element 7 \n",
      "\n",
      "1 4 \n",
      "\n",
      "4 1 \n",
      "\n",
      "so(6) basis element 8 \n",
      "\n",
      "1 5 \n",
      "\n",
      "5 1 \n",
      "\n",
      "so(6) basis element 9 \n",
      "\n",
      "2 3 \n",
      "\n",
      "3 2 \n",
      "\n",
      "so(6) basis element 10 \n",
      "\n",
      "2 4 \n",
      "\n",
      "4 2 \n",
      "\n",
      "so(6) basis element 11 \n",
      "\n",
      "2 5 \n",
      "\n",
      "5 2 \n",
      "\n",
      "so(6) basis element 12 \n",
      "\n",
      "3 4 \n",
      "\n",
      "4 3 \n",
      "\n",
      "so(6) basis element 13 \n",
      "\n",
      "3 5 \n",
      "\n",
      "5 3 \n",
      "\n",
      "so(6) basis element 14 \n",
      "\n",
      "4 5 \n",
      "\n",
      "5 4 \n",
      "\n"
     ]
    }
   ],
   "source": [
    "# verify the result\n",
    "for i in range(15):\n",
    "    print(\"so(6) basis element\", i, \"\\n\")\n",
    "    matrix = so6_basis[i]\n",
    "    for k in range(6):\n",
    "        for l in range(6):\n",
    "            if matrix[k, l] != 0:\n",
    "                print(k, l, \"\\n\")"
   ]
  },
  {
   "cell_type": "code",
   "execution_count": 12,
   "id": "1290df1c-421e-422c-a37b-a1515cd19d17",
   "metadata": {},
   "outputs": [],
   "source": [
    "# definig the basis for matrix representation of su(4) algebra\n",
    "\n",
    "n = 4\n",
    "# get the column vectors\n",
    "dim_4_ket = [basis(n, 0), basis(n, 1), basis(n, 2), basis(n, 3)]\n",
    "# get the bra\n",
    "dim_4_bra = []\n",
    "for i in range(n):\n",
    "    item = dim_4_ket[i]\n",
    "    dim_4_bra.append(item.conj().T)\n",
    "\n",
    "su4_basis = []\n",
    "# find elements along the diagonal\n",
    "for i in range(n-1):\n",
    "        m_ik = (np.outer(dim_4_ket[i], dim_4_ket[i])-np.outer(dim_4_ket[i+1], dim_4_ket[i+1]))\n",
    "        su4_basis.append(-1j*0.5*m_ik)\n",
    "\n",
    "for i in range(n):\n",
    "    for k in range(1, n):\n",
    "        if i < k:\n",
    "            m_ik = -1j*(np.outer(dim_4_ket[i], dim_4_ket[k])-np.outer(dim_4_ket[k], dim_4_ket[i]))\n",
    "            su4_basis.append(-1j*0.5*m_ik)\n",
    "\n",
    "for i in range(n):\n",
    "    for k in range(1, n):\n",
    "        if i < k:\n",
    "            m_ik = (np.outer(dim_4_ket[i], dim_4_ket[k])-np.outer(dim_4_ket[k], dim_4_ket[i]))\n",
    "            su4_basis.append(-1j*0.5*m_ik)"
   ]
  },
  {
   "cell_type": "code",
   "execution_count": 13,
   "id": "8ae264f7-7561-450c-9322-d827c94d74be",
   "metadata": {},
   "outputs": [
    {
     "data": {
      "text/plain": [
       "15"
      ]
     },
     "execution_count": 13,
     "metadata": {},
     "output_type": "execute_result"
    }
   ],
   "source": [
    "len(su4_basis)"
   ]
  },
  {
   "cell_type": "code",
   "execution_count": 14,
   "id": "50ac5a85-217d-4cf3-bdda-dc94ad46a8b0",
   "metadata": {},
   "outputs": [
    {
     "data": {
      "text/plain": [
       "False"
      ]
     },
     "execution_count": 14,
     "metadata": {},
     "output_type": "execute_result"
    }
   ],
   "source": [
    "is_linearly_independent(su4_basis)"
   ]
  },
  {
   "cell_type": "code",
   "execution_count": 15,
   "id": "02a3489d-ec74-4120-8442-9bd4250d6782",
   "metadata": {},
   "outputs": [
    {
     "name": "stdout",
     "output_type": "stream",
     "text": [
      "su(4) basis element 0 \n",
      "\n",
      "0 0 \n",
      "\n",
      "1 1 \n",
      "\n",
      "su(4) basis element 1 \n",
      "\n",
      "1 1 \n",
      "\n",
      "2 2 \n",
      "\n",
      "su(4) basis element 2 \n",
      "\n",
      "2 2 \n",
      "\n",
      "3 3 \n",
      "\n",
      "su(4) basis element 3 \n",
      "\n",
      "0 1 \n",
      "\n",
      "1 0 \n",
      "\n",
      "su(4) basis element 4 \n",
      "\n",
      "0 2 \n",
      "\n",
      "2 0 \n",
      "\n",
      "su(4) basis element 5 \n",
      "\n",
      "0 3 \n",
      "\n",
      "3 0 \n",
      "\n",
      "su(4) basis element 6 \n",
      "\n",
      "1 2 \n",
      "\n",
      "2 1 \n",
      "\n",
      "su(4) basis element 7 \n",
      "\n",
      "1 3 \n",
      "\n",
      "3 1 \n",
      "\n",
      "su(4) basis element 8 \n",
      "\n",
      "2 3 \n",
      "\n",
      "3 2 \n",
      "\n",
      "su(4) basis element 9 \n",
      "\n",
      "0 1 \n",
      "\n",
      "1 0 \n",
      "\n",
      "su(4) basis element 10 \n",
      "\n",
      "0 2 \n",
      "\n",
      "2 0 \n",
      "\n",
      "su(4) basis element 11 \n",
      "\n",
      "0 3 \n",
      "\n",
      "3 0 \n",
      "\n",
      "su(4) basis element 12 \n",
      "\n",
      "1 2 \n",
      "\n",
      "2 1 \n",
      "\n",
      "su(4) basis element 13 \n",
      "\n",
      "1 3 \n",
      "\n",
      "3 1 \n",
      "\n",
      "su(4) basis element 14 \n",
      "\n",
      "2 3 \n",
      "\n",
      "3 2 \n",
      "\n"
     ]
    }
   ],
   "source": [
    "# verify the result by checking non-zero entries\n",
    "for i in range(len(su4_basis)):\n",
    "    print(\"su(4) basis element\", i, \"\\n\")\n",
    "    matrix = su4_basis[i]\n",
    "    for k in range(4):\n",
    "        for l in range(4):\n",
    "            if matrix[k, l] != 0:\n",
    "                print(k, l, \"\\n\")"
   ]
  },
  {
   "cell_type": "code",
   "execution_count": 16,
   "id": "0a3d2074-1f5e-4337-842c-5c31a614045e",
   "metadata": {},
   "outputs": [],
   "source": [
    "# page 88 su(4) basis from pfeifer - lie algebra intro\n",
    "e0 = np.array([[0, 1, 0, 0], [1, 0, 0, 0], [0, 0, 0, 0],[0, 0, 0, 0]])\n",
    "e1 = np.array([[0, -1j, 0, 0], [1j, 0, 0, 0], [0, 0, 0, 0],[0, 0, 0, 0]])\n",
    "e2 = np.array([[1, 0, 0, 0], [0, -1, 0, 0], [0, 0, 0, 0],[0, 0, 0, 0]])\n",
    "e3 = np.array([[0, 0, 1, 0], [0, 0, 0, 0], [1, 0, 0, 0],[0, 0, 0, 0]])\n",
    "e4 = np.array([[0, 0, -1j, 0], [0, 0, 0, 0], [1j, 0, 0, 0],[0, 0, 0, 0]])\n",
    "e5 = np.array([[0, 0, 0, 0], [0, 0, 1, 0], [0, 1, 0, 0],[0, 0, 0, 0]])\n",
    "e6 = np.array([[0, 0, 0, 0], [0, 0, -1j, 0], [0, 1j, 0, 0],[0, 0, 0, 0]])\n",
    "e7 = (1/np.sqrt(3))*np.array([[1, 0, 0, 0], [0, 1, 0, 0], [0, 0, -2, 0],[0, 0, 0, 0]])\n",
    "e8 = np.array([[0, 0, 0, 1], [0, 0, 0, 0], [0, 0, 0, 0],[1, 0, 0, 0]])\n",
    "e9 = np.array([[0, 0, 0, -1j], [0, 0, 0, 0], [0, 0, 0, 0],[1j, 0, 0, 0]])\n",
    "e10 = np.array([[0, 0, 0, 0], [0, 0, 0, 1], [0, 0, 0, 0],[0, 1, 0, 0]])\n",
    "e11 = np.array([[0, 0, 0, 0], [0, 0, 0, -1j], [0, 0, 0, 0],[0, 1j, 0, 0]])\n",
    "e12 = np.array([[0, 0, 0, 0], [0, 0, 0, 0], [0, 0, 0, 1],[0, 0, 1, 0]])\n",
    "e13 = np.array([[0, 0, 0, 0], [0, 0, 0, 0], [0, 0, 0, -1j],[0, 0, 1j, 0]])\n",
    "e14 = (1/np.sqrt(3))*np.array([[1, 0, 0, 0], [0, 1, 0, 0], [0, 0, 1, 0],[0, 0, 0, -3]])\n",
    "full_e_basis = [-1j*0.5*e0, -1j*0.5*e1, -1j*0.5*e2,-1j*0.5*e3, -1j*0.5*e4, -1j*0.5*e5, -1j*0.5*e6, -1j*0.5*e7, -1j*0.5*e8, -1j*0.5*e9, -1j*0.5*e10, -1j*0.5*e11, -1j*0.5*e12, -1j*0.5*e13, -1j*0.5*e14]"
   ]
  },
  {
   "cell_type": "code",
   "execution_count": 17,
   "id": "27ba58cb-93ba-41dd-b080-1d555ff1834a",
   "metadata": {},
   "outputs": [
    {
     "data": {
      "text/plain": [
       "False"
      ]
     },
     "execution_count": 17,
     "metadata": {},
     "output_type": "execute_result"
    }
   ],
   "source": [
    "is_linearly_independent(full_e_basis)"
   ]
  },
  {
   "cell_type": "code",
   "execution_count": 41,
   "id": "ba704ce3-de06-45c7-a83a-5a8c1510c4c4",
   "metadata": {
    "scrolled": true
   },
   "outputs": [
    {
     "data": {
      "text/plain": [
       "4"
      ]
     },
     "execution_count": 41,
     "metadata": {},
     "output_type": "execute_result"
    }
   ],
   "source": [
    "# su4 on page 88\n",
    "np.linalg.matrix_rank(np.column_stack(full_e_basis))"
   ]
  },
  {
   "cell_type": "code",
   "execution_count": 37,
   "id": "debf0c68-17cc-4290-a2c4-abac12b83640",
   "metadata": {},
   "outputs": [
    {
     "data": {
      "text/plain": [
       "4"
      ]
     },
     "execution_count": 37,
     "metadata": {},
     "output_type": "execute_result"
    }
   ],
   "source": [
    "np.linalg.matrix_rank(np.column_stack(su4_basis))"
   ]
  },
  {
   "cell_type": "code",
   "execution_count": 38,
   "id": "04cbeb2f-e76e-45ea-92b2-3e2a4c2e323d",
   "metadata": {},
   "outputs": [
    {
     "data": {
      "text/plain": [
       "6"
      ]
     },
     "execution_count": 38,
     "metadata": {},
     "output_type": "execute_result"
    }
   ],
   "source": [
    "np.linalg.matrix_rank(np.column_stack(so6_basis))"
   ]
  },
  {
   "cell_type": "code",
   "execution_count": null,
   "id": "38acf456-b320-4cae-bab9-6b95bf686c35",
   "metadata": {},
   "outputs": [],
   "source": []
  }
 ],
 "metadata": {
  "kernelspec": {
   "display_name": "Python 3 (ipykernel)",
   "language": "python",
   "name": "python3"
  },
  "language_info": {
   "codemirror_mode": {
    "name": "ipython",
    "version": 3
   },
   "file_extension": ".py",
   "mimetype": "text/x-python",
   "name": "python",
   "nbconvert_exporter": "python",
   "pygments_lexer": "ipython3",
   "version": "3.10.12"
  }
 },
 "nbformat": 4,
 "nbformat_minor": 5
}
