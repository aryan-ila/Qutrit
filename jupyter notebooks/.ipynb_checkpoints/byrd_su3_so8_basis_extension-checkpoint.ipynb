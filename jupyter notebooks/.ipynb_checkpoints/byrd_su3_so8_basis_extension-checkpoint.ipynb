{
 "cells": [
  {
   "cell_type": "markdown",
   "id": "804004d3-1697-4043-9b96-1115402b18f9",
   "metadata": {},
   "source": [
    "# Correction to basis defined in Appendix B of arXiv:1010.2274\n",
    "\n",
    "This notebook makes corrections to the exten\n",
    "\n"
   ]
  },
  {
   "cell_type": "code",
   "execution_count": null,
   "id": "f3316de8-99f0-440e-a0d3-e96a454e4f70",
   "metadata": {},
   "outputs": [],
   "source": []
  }
 ],
 "metadata": {
  "kernelspec": {
   "display_name": "Python 3 (ipykernel)",
   "language": "python",
   "name": "python3"
  },
  "language_info": {
   "codemirror_mode": {
    "name": "ipython",
    "version": 3
   },
   "file_extension": ".py",
   "mimetype": "text/x-python",
   "name": "python",
   "nbconvert_exporter": "python",
   "pygments_lexer": "ipython3",
   "version": "3.12.4"
  }
 },
 "nbformat": 4,
 "nbformat_minor": 5
}
